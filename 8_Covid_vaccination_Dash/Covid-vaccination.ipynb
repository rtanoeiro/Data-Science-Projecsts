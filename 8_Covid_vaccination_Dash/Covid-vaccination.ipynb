{
 "cells": [
  {
   "cell_type": "code",
   "execution_count": 1,
   "id": "d82625c3",
   "metadata": {},
   "outputs": [],
   "source": [
    "import pandas as pd\n",
    "import numpy as np\n",
    "import datetime\n",
    "import plotly\n",
    "import plotly.graph_objs as go"
   ]
  },
  {
   "cell_type": "code",
   "execution_count": 2,
   "id": "a479935e",
   "metadata": {},
   "outputs": [],
   "source": [
    "locations = pd.read_csv(\"https://raw.githubusercontent.com/owid/covid-19-data/master/public/data/vaccinations/locations.csv\", usecols=['location'])"
   ]
  },
  {
   "cell_type": "code",
   "execution_count": 3,
   "id": "28892924",
   "metadata": {},
   "outputs": [],
   "source": [
    "locations_labels = locations['location']\n",
    "locations_values = [nome.replace(' ', '%20') for nome in locations['location']]"
   ]
  },
  {
   "cell_type": "code",
   "execution_count": 4,
   "id": "f63b14cd",
   "metadata": {
    "scrolled": false
   },
   "outputs": [
    {
     "data": {
      "text/html": [
       "<div>\n",
       "<style scoped>\n",
       "    .dataframe tbody tr th:only-of-type {\n",
       "        vertical-align: middle;\n",
       "    }\n",
       "\n",
       "    .dataframe tbody tr th {\n",
       "        vertical-align: top;\n",
       "    }\n",
       "\n",
       "    .dataframe thead th {\n",
       "        text-align: right;\n",
       "    }\n",
       "</style>\n",
       "<table border=\"1\" class=\"dataframe\">\n",
       "  <thead>\n",
       "    <tr style=\"text-align: right;\">\n",
       "      <th></th>\n",
       "      <th>location</th>\n",
       "    </tr>\n",
       "  </thead>\n",
       "  <tbody>\n",
       "    <tr>\n",
       "      <th>0</th>\n",
       "      <td>Afghanistan</td>\n",
       "    </tr>\n",
       "    <tr>\n",
       "      <th>1</th>\n",
       "      <td>Albania</td>\n",
       "    </tr>\n",
       "    <tr>\n",
       "      <th>2</th>\n",
       "      <td>Algeria</td>\n",
       "    </tr>\n",
       "    <tr>\n",
       "      <th>3</th>\n",
       "      <td>Andorra</td>\n",
       "    </tr>\n",
       "    <tr>\n",
       "      <th>4</th>\n",
       "      <td>Angola</td>\n",
       "    </tr>\n",
       "    <tr>\n",
       "      <th>...</th>\n",
       "      <td>...</td>\n",
       "    </tr>\n",
       "    <tr>\n",
       "      <th>190</th>\n",
       "      <td>Venezuela</td>\n",
       "    </tr>\n",
       "    <tr>\n",
       "      <th>191</th>\n",
       "      <td>Vietnam</td>\n",
       "    </tr>\n",
       "    <tr>\n",
       "      <th>192</th>\n",
       "      <td>Wales</td>\n",
       "    </tr>\n",
       "    <tr>\n",
       "      <th>193</th>\n",
       "      <td>Zambia</td>\n",
       "    </tr>\n",
       "    <tr>\n",
       "      <th>194</th>\n",
       "      <td>Zimbabwe</td>\n",
       "    </tr>\n",
       "  </tbody>\n",
       "</table>\n",
       "<p>195 rows × 1 columns</p>\n",
       "</div>"
      ],
      "text/plain": [
       "        location\n",
       "0    Afghanistan\n",
       "1        Albania\n",
       "2        Algeria\n",
       "3        Andorra\n",
       "4         Angola\n",
       "..           ...\n",
       "190    Venezuela\n",
       "191      Vietnam\n",
       "192        Wales\n",
       "193       Zambia\n",
       "194     Zimbabwe\n",
       "\n",
       "[195 rows x 1 columns]"
      ]
     },
     "execution_count": 4,
     "metadata": {},
     "output_type": "execute_result"
    }
   ],
   "source": [
    "locations"
   ]
  },
  {
   "cell_type": "code",
   "execution_count": 5,
   "id": "0f693943",
   "metadata": {},
   "outputs": [],
   "source": [
    "from fbprophet import Prophet"
   ]
  },
  {
   "cell_type": "code",
   "execution_count": 6,
   "id": "3487ca88",
   "metadata": {},
   "outputs": [],
   "source": [
    "import dash\n",
    "import dash_core_components as dcc\n",
    "import dash_html_components as html\n",
    "import dash_bootstrap_components as dbc\n",
    "from dash.dependencies import Input, Output"
   ]
  },
  {
   "cell_type": "code",
   "execution_count": 7,
   "id": "89f577da",
   "metadata": {},
   "outputs": [],
   "source": [
    "app = dash.Dash(__name__, external_stylesheets = [dbc.themes.CYBORG],\n",
    "                meta_tags=[{'name': 'viewport',\n",
    "                             'content': 'width=device-width initial-scale=1.0'\n",
    "                           } \n",
    "                          ]\n",
    "               )\n",
    "app.title = 'Número de pessoas vacinadas'"
   ]
  },
  {
   "cell_type": "code",
   "execution_count": 8,
   "id": "02a2c291",
   "metadata": {},
   "outputs": [],
   "source": [
    "app.layout = dbc.Container([\n",
    "        dbc.Row([\n",
    "            dbc.Col([\n",
    "                html.H2(children='Vaccine Dashboard - Data Science Recruit',\n",
    "                        className='text-center shadow-lg',\n",
    "                       )\n",
    "            ],width = {'size':10, 'order':1 }),\n",
    "            \n",
    "            dbc.Col([\n",
    "                dbc.Card(\n",
    "                    dbc.CardBody([\n",
    "                        dbc.CardLink(\"Website Link\", href=\"https://datasciencerecruit.com/\"),\n",
    "                    ])\n",
    "                )\n",
    "            ],width = {'size':2, 'order':2 }),\n",
    "        ]),\n",
    "            \n",
    "    html.Br(),\n",
    "    \n",
    "    html.P(\"Please select the amount of days that you wish to make predictions. Check 0 if you just want to check the current vaccination situation\"),\n",
    "    \n",
    "    dcc.RadioItems(id='days',\n",
    "                   options=[{'label':0, 'value':0},\n",
    "                            {'label':15, 'value':15},\n",
    "                            {'label':30, 'value':30},\n",
    "                            {'label':45, 'value':45},\n",
    "                            {'label':60, 'value':60},\n",
    "                            {'label':90, 'value':90},\n",
    "                           ],value=30),\n",
    "    \n",
    "    dcc.Dropdown(id='country',\n",
    "                 options=[{'label':i, 'value':j} for i,j in zip(list(locations_labels), locations_values)],\n",
    "                 multi=False,\n",
    "                 value='Brazil'),\n",
    "            \n",
    "    dcc.Graph(id='graph', figure={})\n",
    "    \n",
    "])\n"
   ]
  },
  {
   "cell_type": "code",
   "execution_count": 9,
   "id": "383ec277",
   "metadata": {},
   "outputs": [],
   "source": [
    "# Connecta Plotly graphs com Dash Components\n",
    "@app.callback(\n",
    "    Output(component_id='graph', component_property='figure'),\n",
    "    Input(component_id='country', component_property='value'),\n",
    "    Input(component_id='days', component_property='value')\n",
    ")\n",
    "\n",
    "def update_graph(country, days):\n",
    "    file_path = 'https://raw.githubusercontent.com/owid/covid-19-data/master/public/data/vaccinations/country_data/{}.csv'.format(country)\n",
    "    data = pd.read_csv(file_path, usecols=['date', 'total_vaccinations'])\n",
    "    \n",
    "    data['date'] = pd.to_datetime(data['date'])\n",
    "    data.rename(columns={'date':'ds','total_vaccinations':'y'}, inplace=True)\n",
    "    \n",
    "    model = Prophet(yearly_seasonality=False,weekly_seasonality=True, daily_seasonality=True, seasonality_mode='additive')\n",
    "    model.fit(data)\n",
    "    future = model.make_future_dataframe(periods=days)\n",
    "    predictions = model.predict(future)\n",
    "    predictions.drop(data.index, inplace=True)\n",
    "\n",
    "    trace = [go.Scatter(x=data['ds'], y=data['y']),\n",
    "             go.Scatter(x=predictions['ds'], y=predictions['yhat'])]\n",
    "    layout = go.Layout(title='Number of Vaccinated People - {}'.format(country.replace('%20', ' ')))\n",
    "    fig = go.Figure(data=trace, layout=layout)\n",
    "    \n",
    "    return fig"
   ]
  },
  {
   "cell_type": "code",
   "execution_count": 10,
   "id": "5008a58a",
   "metadata": {},
   "outputs": [
    {
     "name": "stdout",
     "output_type": "stream",
     "text": [
      "Dash is running on http://127.0.0.1:8080/\n",
      "\n",
      " * Serving Flask app \"__main__\" (lazy loading)\n",
      " * Environment: production\n",
      "   WARNING: This is a development server. Do not use it in a production deployment.\n",
      "   Use a production WSGI server instead.\n",
      " * Debug mode: on\n"
     ]
    },
    {
     "name": "stderr",
     "output_type": "stream",
     "text": [
      "INFO:fbprophet:n_changepoints greater than number of observations. Using 0.\n",
      "INFO:fbprophet:n_changepoints greater than number of observations. Using 0.\n",
      "INFO:fbprophet:n_changepoints greater than number of observations. Using 0.\n"
     ]
    }
   ],
   "source": [
    "if __name__ == '__main__':\n",
    "    app.run_server(debug=True, port=8080, use_reloader=False)"
   ]
  },
  {
   "cell_type": "code",
   "execution_count": null,
   "id": "5bc5bbce",
   "metadata": {},
   "outputs": [],
   "source": []
  }
 ],
 "metadata": {
  "kernelspec": {
   "display_name": "Python 3",
   "language": "python",
   "name": "python3"
  },
  "language_info": {
   "codemirror_mode": {
    "name": "ipython",
    "version": 3
   },
   "file_extension": ".py",
   "mimetype": "text/x-python",
   "name": "python",
   "nbconvert_exporter": "python",
   "pygments_lexer": "ipython3",
   "version": "3.8.8"
  }
 },
 "nbformat": 4,
 "nbformat_minor": 5
}