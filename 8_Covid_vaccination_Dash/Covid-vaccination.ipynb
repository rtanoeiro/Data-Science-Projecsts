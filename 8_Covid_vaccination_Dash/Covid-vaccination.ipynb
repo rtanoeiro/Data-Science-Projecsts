{
 "cells": [
  {
   "cell_type": "code",
   "execution_count": 1,
   "id": "d82625c3",
   "metadata": {},
   "outputs": [],
   "source": [
    "import pandas as pd\n",
    "import numpy as np\n",
    "import datetime\n",
    "import plotly\n",
    "import plotly.graph_objs as go\n",
    "import warnings\n",
    "warnings.filterwarnings(\"ignore\")"
   ]
  },
  {
   "cell_type": "code",
   "execution_count": 2,
   "id": "a479935e",
   "metadata": {},
   "outputs": [],
   "source": [
    "locations = pd.read_csv(\"https://raw.githubusercontent.com/owid/covid-19-data/master/public/data/vaccinations/locations.csv\", usecols=['location'])"
   ]
  },
  {
   "cell_type": "code",
   "execution_count": 3,
   "id": "28892924",
   "metadata": {},
   "outputs": [],
   "source": [
    "locations_labels = locations['location']\n",
    "locations_values = [name.replace(' ', '%20') for name in locations['location']]"
   ]
  },
  {
   "cell_type": "code",
   "execution_count": null,
   "id": "6f142e55",
   "metadata": {},
   "outputs": [],
   "source": []
  },
  {
   "cell_type": "code",
   "execution_count": 4,
   "id": "3487ca88",
   "metadata": {},
   "outputs": [],
   "source": [
    "import dash\n",
    "import dash_core_components as dcc\n",
    "import dash_html_components as html\n",
    "import dash_bootstrap_components as dbc\n",
    "from dash.dependencies import Input, Output"
   ]
  },
  {
   "cell_type": "code",
   "execution_count": 5,
   "id": "89f577da",
   "metadata": {},
   "outputs": [],
   "source": [
    "app = dash.Dash(__name__, external_stylesheets = [dbc.themes.CYBORG],\n",
    "                meta_tags=[{'name': 'viewport',\n",
    "                             'content': 'width=device-width initial-scale=1.0'\n",
    "                           } \n",
    "                          ]\n",
    "               )\n",
    "app.title = 'Número de pessoas vacinadas'"
   ]
  },
  {
   "cell_type": "code",
   "execution_count": 6,
   "id": "02a2c291",
   "metadata": {},
   "outputs": [],
   "source": [
    "app.layout = dbc.Container([\n",
    "        dbc.Row([\n",
    "            dbc.Col([\n",
    "                html.H2(children='Vaccine Dashboard - Data Science Recruit',\n",
    "                        className='text-center shadow-lg',\n",
    "                       )\n",
    "            ],width = {'size':10, 'order':1 }),\n",
    "            \n",
    "            dbc.Col([\n",
    "                dbc.Card(\n",
    "                    dbc.CardBody([\n",
    "                        dbc.CardLink(\"Website Link\", href=\"https://datasciencerecruit.com/\"),\n",
    "                    ])\n",
    "                )\n",
    "            ],width = {'size':2, 'order':2 }),\n",
    "        ]),\n",
    "            \n",
    "    html.Br(),\n",
    "    \n",
    "    html.P(\"Please select the country that you wish to check current vaccination situation\"),\n",
    "    \n",
    "    dcc.Dropdown(id='country',\n",
    "                 options=[{'label':i, 'value':j} for i,j in zip(list(locations_labels), locations_values)],\n",
    "                 multi=False,\n",
    "                 value='Brazil'),\n",
    "            \n",
    "    dcc.Graph(id='graph', figure={})\n",
    "    \n",
    "])\n"
   ]
  },
  {
   "cell_type": "code",
   "execution_count": 7,
   "id": "383ec277",
   "metadata": {},
   "outputs": [],
   "source": [
    "# Connects Plotly graphs with Dash Components\n",
    "@app.callback(\n",
    "    Output(component_id='graph', component_property='figure'),\n",
    "    Input(component_id='country', component_property='value'),\n",
    ")\n",
    "\n",
    "def update_graph(country):\n",
    "    file_path = 'https://raw.githubusercontent.com/owid/covid-19-data/master/public/data/vaccinations/country_data/{}.csv'.format(country)\n",
    "    data = pd.read_csv(file_path, usecols=['date', 'total_vaccinations'])\n",
    "    data['date'] = pd.to_datetime(data['date'])\n",
    "    \n",
    "    trace = go.Scatter(x=data['date'], y=data['total_vaccinations']),\n",
    "    layout = go.Layout(title='Number of Vaccinated People - {}'.format(country.replace('%20', ' ')))\n",
    "    fig = go.Figure(data=trace, layout=layout)\n",
    "    \n",
    "    return fig"
   ]
  },
  {
   "cell_type": "code",
   "execution_count": 8,
   "id": "5008a58a",
   "metadata": {
    "scrolled": true
   },
   "outputs": [
    {
     "name": "stdout",
     "output_type": "stream",
     "text": [
      "Dash is running on http://127.0.0.1:8080/\n",
      "\n",
      " * Serving Flask app \"__main__\" (lazy loading)\n",
      " * Environment: production\n",
      "   WARNING: This is a development server. Do not use it in a production deployment.\n",
      "   Use a production WSGI server instead.\n",
      " * Debug mode: on\n"
     ]
    }
   ],
   "source": [
    "if __name__ == '__main__':\n",
    "    app.run_server(debug=True, port=8080, use_reloader=False)"
   ]
  },
  {
   "cell_type": "code",
   "execution_count": null,
   "id": "5bc5bbce",
   "metadata": {},
   "outputs": [],
   "source": []
  }
 ],
 "metadata": {
  "kernelspec": {
   "display_name": "Python 3",
   "language": "python",
   "name": "python3"
  },
  "language_info": {
   "codemirror_mode": {
    "name": "ipython",
    "version": 3
   },
   "file_extension": ".py",
   "mimetype": "text/x-python",
   "name": "python",
   "nbconvert_exporter": "python",
   "pygments_lexer": "ipython3",
   "version": "3.8.8"
  }
 },
 "nbformat": 4,
 "nbformat_minor": 5
}
