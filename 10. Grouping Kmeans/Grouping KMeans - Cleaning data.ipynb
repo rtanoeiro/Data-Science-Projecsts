{
 "cells": [
  {
   "cell_type": "code",
   "execution_count": 1,
   "id": "420e8cf6",
   "metadata": {},
   "outputs": [],
   "source": [
    "import pandas as pd"
   ]
  },
  {
   "cell_type": "code",
   "execution_count": 2,
   "id": "ab6d0e19",
   "metadata": {},
   "outputs": [],
   "source": [
    "## Data available here: https://www.kaggle.com/tunguz/big-five-personality-test"
   ]
  },
  {
   "cell_type": "code",
   "execution_count": 3,
   "id": "fd4ac17f",
   "metadata": {},
   "outputs": [],
   "source": [
    "## Video used for analysis: https://www.youtube.com/watch?v=b3YwX9q-pDQ&t=616s"
   ]
  },
  {
   "cell_type": "code",
   "execution_count": 4,
   "id": "1a7b07a8",
   "metadata": {},
   "outputs": [],
   "source": [
    "data = pd.read_csv(\"data-final.csv\", sep=\"\\t\")"
   ]
  },
  {
   "cell_type": "code",
   "execution_count": 17,
   "id": "8fdabc9f",
   "metadata": {},
   "outputs": [
    {
     "data": {
      "text/plain": [
       "876217"
      ]
     },
     "execution_count": 17,
     "metadata": {},
     "output_type": "execute_result"
    }
   ],
   "source": [
    "len(data)"
   ]
  },
  {
   "cell_type": "code",
   "execution_count": 6,
   "id": "c057c7a3",
   "metadata": {},
   "outputs": [],
   "source": [
    "## Columns with the tag _E are the time spent on the question, which I will drop\n",
    "## We'll also drop dataload, screennw, screenhm introelapse, testelapse, endelapse, IPC, latitude and longitude\n",
    "## We'll keep country and will compare if the personality is affected by country"
   ]
  },
  {
   "cell_type": "code",
   "execution_count": 7,
   "id": "4d46009c",
   "metadata": {},
   "outputs": [],
   "source": [
    "to_remove = [i for i in data.columns[50:107]]\n",
    "for j in data.columns[108:]:\n",
    "    to_remove.append(j)"
   ]
  },
  {
   "cell_type": "code",
   "execution_count": 8,
   "id": "3b1e0e88",
   "metadata": {},
   "outputs": [],
   "source": [
    "data.drop(to_remove, axis=1, inplace=True) ## First drop, by removing unnecessary columns"
   ]
  },
  {
   "cell_type": "code",
   "execution_count": 9,
   "id": "1bf637c2",
   "metadata": {},
   "outputs": [
    {
     "data": {
      "text/html": [
       "<div>\n",
       "<style scoped>\n",
       "    .dataframe tbody tr th:only-of-type {\n",
       "        vertical-align: middle;\n",
       "    }\n",
       "\n",
       "    .dataframe tbody tr th {\n",
       "        vertical-align: top;\n",
       "    }\n",
       "\n",
       "    .dataframe thead th {\n",
       "        text-align: right;\n",
       "    }\n",
       "</style>\n",
       "<table border=\"1\" class=\"dataframe\">\n",
       "  <thead>\n",
       "    <tr style=\"text-align: right;\">\n",
       "      <th></th>\n",
       "      <th>EXT1</th>\n",
       "      <th>EXT2</th>\n",
       "      <th>EXT3</th>\n",
       "      <th>EXT4</th>\n",
       "      <th>EXT5</th>\n",
       "      <th>EXT6</th>\n",
       "      <th>EXT7</th>\n",
       "      <th>EXT8</th>\n",
       "      <th>EXT9</th>\n",
       "      <th>EXT10</th>\n",
       "      <th>...</th>\n",
       "      <th>OPN1</th>\n",
       "      <th>OPN2</th>\n",
       "      <th>OPN3</th>\n",
       "      <th>OPN4</th>\n",
       "      <th>OPN5</th>\n",
       "      <th>OPN6</th>\n",
       "      <th>OPN7</th>\n",
       "      <th>OPN8</th>\n",
       "      <th>OPN9</th>\n",
       "      <th>OPN10</th>\n",
       "    </tr>\n",
       "  </thead>\n",
       "  <tbody>\n",
       "    <tr>\n",
       "      <th>count</th>\n",
       "      <td>1013558.00</td>\n",
       "      <td>1013558.00</td>\n",
       "      <td>1013558.00</td>\n",
       "      <td>1013558.00</td>\n",
       "      <td>1013558.00</td>\n",
       "      <td>1013558.00</td>\n",
       "      <td>1013558.00</td>\n",
       "      <td>1013558.00</td>\n",
       "      <td>1013558.00</td>\n",
       "      <td>1013558.00</td>\n",
       "      <td>...</td>\n",
       "      <td>1013558.00</td>\n",
       "      <td>1013558.00</td>\n",
       "      <td>1013558.00</td>\n",
       "      <td>1013558.00</td>\n",
       "      <td>1013558.00</td>\n",
       "      <td>1013558.00</td>\n",
       "      <td>1013558.00</td>\n",
       "      <td>1013558.00</td>\n",
       "      <td>1013558.00</td>\n",
       "      <td>1013558.00</td>\n",
       "    </tr>\n",
       "    <tr>\n",
       "      <th>mean</th>\n",
       "      <td>2.65</td>\n",
       "      <td>2.77</td>\n",
       "      <td>3.29</td>\n",
       "      <td>3.14</td>\n",
       "      <td>3.28</td>\n",
       "      <td>2.40</td>\n",
       "      <td>2.77</td>\n",
       "      <td>3.41</td>\n",
       "      <td>2.96</td>\n",
       "      <td>3.56</td>\n",
       "      <td>...</td>\n",
       "      <td>3.65</td>\n",
       "      <td>2.08</td>\n",
       "      <td>4.00</td>\n",
       "      <td>2.00</td>\n",
       "      <td>3.79</td>\n",
       "      <td>1.89</td>\n",
       "      <td>3.98</td>\n",
       "      <td>3.18</td>\n",
       "      <td>4.12</td>\n",
       "      <td>3.96</td>\n",
       "    </tr>\n",
       "    <tr>\n",
       "      <th>std</th>\n",
       "      <td>1.26</td>\n",
       "      <td>1.32</td>\n",
       "      <td>1.22</td>\n",
       "      <td>1.24</td>\n",
       "      <td>1.28</td>\n",
       "      <td>1.23</td>\n",
       "      <td>1.40</td>\n",
       "      <td>1.27</td>\n",
       "      <td>1.35</td>\n",
       "      <td>1.31</td>\n",
       "      <td>...</td>\n",
       "      <td>1.16</td>\n",
       "      <td>1.11</td>\n",
       "      <td>1.10</td>\n",
       "      <td>1.09</td>\n",
       "      <td>0.99</td>\n",
       "      <td>1.10</td>\n",
       "      <td>1.01</td>\n",
       "      <td>1.26</td>\n",
       "      <td>1.04</td>\n",
       "      <td>1.03</td>\n",
       "    </tr>\n",
       "    <tr>\n",
       "      <th>min</th>\n",
       "      <td>0.00</td>\n",
       "      <td>0.00</td>\n",
       "      <td>0.00</td>\n",
       "      <td>0.00</td>\n",
       "      <td>0.00</td>\n",
       "      <td>0.00</td>\n",
       "      <td>0.00</td>\n",
       "      <td>0.00</td>\n",
       "      <td>0.00</td>\n",
       "      <td>0.00</td>\n",
       "      <td>...</td>\n",
       "      <td>0.00</td>\n",
       "      <td>0.00</td>\n",
       "      <td>0.00</td>\n",
       "      <td>0.00</td>\n",
       "      <td>0.00</td>\n",
       "      <td>0.00</td>\n",
       "      <td>0.00</td>\n",
       "      <td>0.00</td>\n",
       "      <td>0.00</td>\n",
       "      <td>0.00</td>\n",
       "    </tr>\n",
       "    <tr>\n",
       "      <th>25%</th>\n",
       "      <td>1.00</td>\n",
       "      <td>2.00</td>\n",
       "      <td>2.00</td>\n",
       "      <td>2.00</td>\n",
       "      <td>2.00</td>\n",
       "      <td>1.00</td>\n",
       "      <td>2.00</td>\n",
       "      <td>2.00</td>\n",
       "      <td>2.00</td>\n",
       "      <td>3.00</td>\n",
       "      <td>...</td>\n",
       "      <td>3.00</td>\n",
       "      <td>1.00</td>\n",
       "      <td>3.00</td>\n",
       "      <td>1.00</td>\n",
       "      <td>3.00</td>\n",
       "      <td>1.00</td>\n",
       "      <td>3.00</td>\n",
       "      <td>2.00</td>\n",
       "      <td>4.00</td>\n",
       "      <td>3.00</td>\n",
       "    </tr>\n",
       "    <tr>\n",
       "      <th>50%</th>\n",
       "      <td>3.00</td>\n",
       "      <td>3.00</td>\n",
       "      <td>3.00</td>\n",
       "      <td>3.00</td>\n",
       "      <td>3.00</td>\n",
       "      <td>2.00</td>\n",
       "      <td>3.00</td>\n",
       "      <td>4.00</td>\n",
       "      <td>3.00</td>\n",
       "      <td>4.00</td>\n",
       "      <td>...</td>\n",
       "      <td>4.00</td>\n",
       "      <td>2.00</td>\n",
       "      <td>4.00</td>\n",
       "      <td>2.00</td>\n",
       "      <td>4.00</td>\n",
       "      <td>2.00</td>\n",
       "      <td>4.00</td>\n",
       "      <td>3.00</td>\n",
       "      <td>4.00</td>\n",
       "      <td>4.00</td>\n",
       "    </tr>\n",
       "    <tr>\n",
       "      <th>75%</th>\n",
       "      <td>4.00</td>\n",
       "      <td>4.00</td>\n",
       "      <td>4.00</td>\n",
       "      <td>4.00</td>\n",
       "      <td>4.00</td>\n",
       "      <td>3.00</td>\n",
       "      <td>4.00</td>\n",
       "      <td>4.00</td>\n",
       "      <td>4.00</td>\n",
       "      <td>5.00</td>\n",
       "      <td>...</td>\n",
       "      <td>5.00</td>\n",
       "      <td>3.00</td>\n",
       "      <td>5.00</td>\n",
       "      <td>3.00</td>\n",
       "      <td>5.00</td>\n",
       "      <td>2.00</td>\n",
       "      <td>5.00</td>\n",
       "      <td>4.00</td>\n",
       "      <td>5.00</td>\n",
       "      <td>5.00</td>\n",
       "    </tr>\n",
       "    <tr>\n",
       "      <th>max</th>\n",
       "      <td>5.00</td>\n",
       "      <td>5.00</td>\n",
       "      <td>5.00</td>\n",
       "      <td>5.00</td>\n",
       "      <td>5.00</td>\n",
       "      <td>5.00</td>\n",
       "      <td>5.00</td>\n",
       "      <td>5.00</td>\n",
       "      <td>5.00</td>\n",
       "      <td>5.00</td>\n",
       "      <td>...</td>\n",
       "      <td>5.00</td>\n",
       "      <td>5.00</td>\n",
       "      <td>5.00</td>\n",
       "      <td>5.00</td>\n",
       "      <td>5.00</td>\n",
       "      <td>5.00</td>\n",
       "      <td>5.00</td>\n",
       "      <td>5.00</td>\n",
       "      <td>5.00</td>\n",
       "      <td>5.00</td>\n",
       "    </tr>\n",
       "  </tbody>\n",
       "</table>\n",
       "<p>8 rows × 50 columns</p>\n",
       "</div>"
      ],
      "text/plain": [
       "            EXT1       EXT2       EXT3       EXT4       EXT5       EXT6  \\\n",
       "count 1013558.00 1013558.00 1013558.00 1013558.00 1013558.00 1013558.00   \n",
       "mean        2.65       2.77       3.29       3.14       3.28       2.40   \n",
       "std         1.26       1.32       1.22       1.24       1.28       1.23   \n",
       "min         0.00       0.00       0.00       0.00       0.00       0.00   \n",
       "25%         1.00       2.00       2.00       2.00       2.00       1.00   \n",
       "50%         3.00       3.00       3.00       3.00       3.00       2.00   \n",
       "75%         4.00       4.00       4.00       4.00       4.00       3.00   \n",
       "max         5.00       5.00       5.00       5.00       5.00       5.00   \n",
       "\n",
       "            EXT7       EXT8       EXT9      EXT10  ...       OPN1       OPN2  \\\n",
       "count 1013558.00 1013558.00 1013558.00 1013558.00  ... 1013558.00 1013558.00   \n",
       "mean        2.77       3.41       2.96       3.56  ...       3.65       2.08   \n",
       "std         1.40       1.27       1.35       1.31  ...       1.16       1.11   \n",
       "min         0.00       0.00       0.00       0.00  ...       0.00       0.00   \n",
       "25%         2.00       2.00       2.00       3.00  ...       3.00       1.00   \n",
       "50%         3.00       4.00       3.00       4.00  ...       4.00       2.00   \n",
       "75%         4.00       4.00       4.00       5.00  ...       5.00       3.00   \n",
       "max         5.00       5.00       5.00       5.00  ...       5.00       5.00   \n",
       "\n",
       "            OPN3       OPN4       OPN5       OPN6       OPN7       OPN8  \\\n",
       "count 1013558.00 1013558.00 1013558.00 1013558.00 1013558.00 1013558.00   \n",
       "mean        4.00       2.00       3.79       1.89       3.98       3.18   \n",
       "std         1.10       1.09       0.99       1.10       1.01       1.26   \n",
       "min         0.00       0.00       0.00       0.00       0.00       0.00   \n",
       "25%         3.00       1.00       3.00       1.00       3.00       2.00   \n",
       "50%         4.00       2.00       4.00       2.00       4.00       3.00   \n",
       "75%         5.00       3.00       5.00       2.00       5.00       4.00   \n",
       "max         5.00       5.00       5.00       5.00       5.00       5.00   \n",
       "\n",
       "            OPN9      OPN10  \n",
       "count 1013558.00 1013558.00  \n",
       "mean        4.12       3.96  \n",
       "std         1.04       1.03  \n",
       "min         0.00       0.00  \n",
       "25%         4.00       3.00  \n",
       "50%         4.00       4.00  \n",
       "75%         5.00       5.00  \n",
       "max         5.00       5.00  \n",
       "\n",
       "[8 rows x 50 columns]"
      ]
     },
     "execution_count": 9,
     "metadata": {},
     "output_type": "execute_result"
    }
   ],
   "source": [
    "pd.options.display.float_format = \"{:.2f}\".format\n",
    "data.describe()"
   ]
  },
  {
   "cell_type": "code",
   "execution_count": 10,
   "id": "d0ee3a4e",
   "metadata": {},
   "outputs": [],
   "source": [
    "## Data goes from 1 to 5, but we see that that are 0 values in basically all columns"
   ]
  },
  {
   "cell_type": "code",
   "execution_count": 12,
   "id": "7f1e6d45",
   "metadata": {
    "scrolled": true
   },
   "outputs": [],
   "source": [
    "zeros = list()\n",
    "final_zeros =  list()\n",
    "\n",
    "for i in data.columns:\n",
    "    for j in data[(data[i]==0)].index:\n",
    "        zeros.append(j) ## For each column, the for will go over the lines with 0 in it and get the indexes\n",
    "        ## This may create duplicates because more than one column can have 0's in the same index\n",
    "\n",
    "        if j not in final_zeros:\n",
    "            final_zeros.append(j)\n",
    "            ## To remove the duplicates we go over the index list and append to a new list\n",
    "            ## only the ones that are not already in the list\n",
    "        \n",
    "            ## You can see that the final_zeros is smaller than the zeros"
   ]
  },
  {
   "cell_type": "code",
   "execution_count": 13,
   "id": "f61b903d",
   "metadata": {},
   "outputs": [
    {
     "data": {
      "text/plain": [
       "370370"
      ]
     },
     "execution_count": 13,
     "metadata": {},
     "output_type": "execute_result"
    }
   ],
   "source": [
    "len(zeros)"
   ]
  },
  {
   "cell_type": "code",
   "execution_count": 14,
   "id": "8f4ed12a",
   "metadata": {
    "scrolled": true
   },
   "outputs": [
    {
     "data": {
      "text/plain": [
       "139124"
      ]
     },
     "execution_count": 14,
     "metadata": {},
     "output_type": "execute_result"
    }
   ],
   "source": [
    "len(final_zeros) ## Checking size of lists"
   ]
  },
  {
   "cell_type": "code",
   "execution_count": 15,
   "id": "6a3d628f",
   "metadata": {
    "scrolled": true
   },
   "outputs": [],
   "source": [
    "data.drop(final_zeros, axis=0, inplace=True) ## Second drop, removing 0 values"
   ]
  },
  {
   "cell_type": "code",
   "execution_count": 15,
   "id": "0e59a1eb",
   "metadata": {
    "scrolled": true
   },
   "outputs": [
    {
     "data": {
      "text/plain": [
       "EXT1       0\n",
       "EXT2       0\n",
       "EXT3       0\n",
       "EXT4       0\n",
       "EXT5       0\n",
       "EXT6       0\n",
       "EXT7       0\n",
       "EXT8       0\n",
       "EXT9       0\n",
       "EXT10      0\n",
       "EST1       0\n",
       "EST2       0\n",
       "EST3       0\n",
       "EST4       0\n",
       "EST5       0\n",
       "EST6       0\n",
       "EST7       0\n",
       "EST8       0\n",
       "EST9       0\n",
       "EST10      0\n",
       "AGR1       0\n",
       "AGR2       0\n",
       "AGR3       0\n",
       "AGR4       0\n",
       "AGR5       0\n",
       "AGR6       0\n",
       "AGR7       0\n",
       "AGR8       0\n",
       "AGR9       0\n",
       "AGR10      0\n",
       "CSN1       0\n",
       "CSN2       0\n",
       "CSN3       0\n",
       "CSN4       0\n",
       "CSN5       0\n",
       "CSN6       0\n",
       "CSN7       0\n",
       "CSN8       0\n",
       "CSN9       0\n",
       "CSN10      0\n",
       "OPN1       0\n",
       "OPN2       0\n",
       "OPN3       0\n",
       "OPN4       0\n",
       "OPN5       0\n",
       "OPN6       0\n",
       "OPN7       0\n",
       "OPN8       0\n",
       "OPN9       0\n",
       "OPN10      0\n",
       "country    0\n",
       "dtype: int64"
      ]
     },
     "execution_count": 15,
     "metadata": {},
     "output_type": "execute_result"
    }
   ],
   "source": [
    "data.dropna(axis=0, inplace=True)\n",
    "data.isna().sum()"
   ]
  },
  {
   "cell_type": "code",
   "execution_count": 20,
   "id": "4a81f7f8",
   "metadata": {},
   "outputs": [],
   "source": [
    "data.to_csv(\"data-final-clean.csv\", index=False)"
   ]
  }
 ],
 "metadata": {
  "kernelspec": {
   "display_name": "Python 3",
   "language": "python",
   "name": "python3"
  },
  "language_info": {
   "codemirror_mode": {
    "name": "ipython",
    "version": 3
   },
   "file_extension": ".py",
   "mimetype": "text/x-python",
   "name": "python",
   "nbconvert_exporter": "python",
   "pygments_lexer": "ipython3",
   "version": "3.8.8"
  }
 },
 "nbformat": 4,
 "nbformat_minor": 5
}
